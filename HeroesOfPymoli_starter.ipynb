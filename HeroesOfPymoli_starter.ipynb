{
 "cells": [
  {
   "cell_type": "markdown",
   "metadata": {},
   "source": [
    "### Note\n",
    "* Instructions have been included for each segment. You do not have to follow them exactly, but they are included to help you think through the steps."
   ]
  },
  {
   "cell_type": "code",
   "execution_count": 407,
   "metadata": {},
   "outputs": [
    {
     "data": {
      "text/html": [
       "<div>\n",
       "<style scoped>\n",
       "    .dataframe tbody tr th:only-of-type {\n",
       "        vertical-align: middle;\n",
       "    }\n",
       "\n",
       "    .dataframe tbody tr th {\n",
       "        vertical-align: top;\n",
       "    }\n",
       "\n",
       "    .dataframe thead th {\n",
       "        text-align: right;\n",
       "    }\n",
       "</style>\n",
       "<table border=\"1\" class=\"dataframe\">\n",
       "  <thead>\n",
       "    <tr style=\"text-align: right;\">\n",
       "      <th></th>\n",
       "      <th>Purchase ID</th>\n",
       "      <th>SN</th>\n",
       "      <th>Age</th>\n",
       "      <th>Gender</th>\n",
       "      <th>Item ID</th>\n",
       "      <th>Item Name</th>\n",
       "      <th>Price</th>\n",
       "    </tr>\n",
       "  </thead>\n",
       "  <tbody>\n",
       "    <tr>\n",
       "      <td>0</td>\n",
       "      <td>0</td>\n",
       "      <td>Lisim78</td>\n",
       "      <td>20</td>\n",
       "      <td>Male</td>\n",
       "      <td>108</td>\n",
       "      <td>Extraction, Quickblade Of Trembling Hands</td>\n",
       "      <td>3.53</td>\n",
       "    </tr>\n",
       "    <tr>\n",
       "      <td>1</td>\n",
       "      <td>1</td>\n",
       "      <td>Lisovynya38</td>\n",
       "      <td>40</td>\n",
       "      <td>Male</td>\n",
       "      <td>143</td>\n",
       "      <td>Frenzied Scimitar</td>\n",
       "      <td>1.56</td>\n",
       "    </tr>\n",
       "    <tr>\n",
       "      <td>2</td>\n",
       "      <td>2</td>\n",
       "      <td>Ithergue48</td>\n",
       "      <td>24</td>\n",
       "      <td>Male</td>\n",
       "      <td>92</td>\n",
       "      <td>Final Critic</td>\n",
       "      <td>4.88</td>\n",
       "    </tr>\n",
       "    <tr>\n",
       "      <td>3</td>\n",
       "      <td>3</td>\n",
       "      <td>Chamassasya86</td>\n",
       "      <td>24</td>\n",
       "      <td>Male</td>\n",
       "      <td>100</td>\n",
       "      <td>Blindscythe</td>\n",
       "      <td>3.27</td>\n",
       "    </tr>\n",
       "    <tr>\n",
       "      <td>4</td>\n",
       "      <td>4</td>\n",
       "      <td>Iskosia90</td>\n",
       "      <td>23</td>\n",
       "      <td>Male</td>\n",
       "      <td>131</td>\n",
       "      <td>Fury</td>\n",
       "      <td>1.44</td>\n",
       "    </tr>\n",
       "  </tbody>\n",
       "</table>\n",
       "</div>"
      ],
      "text/plain": [
       "   Purchase ID             SN  Age Gender  Item ID  \\\n",
       "0            0        Lisim78   20   Male      108   \n",
       "1            1    Lisovynya38   40   Male      143   \n",
       "2            2     Ithergue48   24   Male       92   \n",
       "3            3  Chamassasya86   24   Male      100   \n",
       "4            4      Iskosia90   23   Male      131   \n",
       "\n",
       "                                   Item Name  Price  \n",
       "0  Extraction, Quickblade Of Trembling Hands   3.53  \n",
       "1                          Frenzied Scimitar   1.56  \n",
       "2                               Final Critic   4.88  \n",
       "3                                Blindscythe   3.27  \n",
       "4                                       Fury   1.44  "
      ]
     },
     "execution_count": 407,
     "metadata": {},
     "output_type": "execute_result"
    }
   ],
   "source": [
    "# Dependencies and Setup\n",
    "import pandas as pd\n",
    "\n",
    "# File to Load (Remember to Change These)\n",
    "file_to_load = \"Resources/purchase_data.csv\"\n",
    "\n",
    "# Read Purchasing File and store into Pandas data frame\n",
    "purchase_data_df = pd.read_csv(file_to_load)\n",
    "purchase_data_df.head(5)"
   ]
  },
  {
   "cell_type": "markdown",
   "metadata": {},
   "source": [
    "## Player Count"
   ]
  },
  {
   "cell_type": "markdown",
   "metadata": {},
   "source": [
    "* Display the total number of players\n"
   ]
  },
  {
   "cell_type": "code",
   "execution_count": 408,
   "metadata": {},
   "outputs": [
    {
     "data": {
      "text/plain": [
       "576"
      ]
     },
     "execution_count": 408,
     "metadata": {},
     "output_type": "execute_result"
    }
   ],
   "source": [
    "total_number_of_players=purchase_data_df[\"SN\"].nunique()\n",
    "total_number_of_players"
   ]
  },
  {
   "cell_type": "markdown",
   "metadata": {},
   "source": [
    "## Purchasing Analysis (Total)"
   ]
  },
  {
   "cell_type": "markdown",
   "metadata": {},
   "source": [
    "* Run basic calculations to obtain number of unique items, average price, etc.\n",
    "\n",
    "\n",
    "* Create a summary data frame to hold the results\n",
    "\n",
    "\n",
    "* Optional: give the displayed data cleaner formatting\n",
    "\n",
    "\n",
    "* Display the summary data frame\n"
   ]
  },
  {
   "cell_type": "code",
   "execution_count": 409,
   "metadata": {
    "scrolled": true
   },
   "outputs": [
    {
     "data": {
      "text/html": [
       "<div>\n",
       "<style scoped>\n",
       "    .dataframe tbody tr th:only-of-type {\n",
       "        vertical-align: middle;\n",
       "    }\n",
       "\n",
       "    .dataframe tbody tr th {\n",
       "        vertical-align: top;\n",
       "    }\n",
       "\n",
       "    .dataframe thead th {\n",
       "        text-align: right;\n",
       "    }\n",
       "</style>\n",
       "<table border=\"1\" class=\"dataframe\">\n",
       "  <thead>\n",
       "    <tr style=\"text-align: right;\">\n",
       "      <th></th>\n",
       "      <th>Number of Unique Items</th>\n",
       "      <th>Average Price</th>\n",
       "      <th>Number of Purchases</th>\n",
       "      <th>Total Revenue</th>\n",
       "    </tr>\n",
       "  </thead>\n",
       "  <tbody>\n",
       "    <tr>\n",
       "      <td>0</td>\n",
       "      <td>183</td>\n",
       "      <td>3.050987</td>\n",
       "      <td>780</td>\n",
       "      <td>2379.77</td>\n",
       "    </tr>\n",
       "  </tbody>\n",
       "</table>\n",
       "</div>"
      ],
      "text/plain": [
       "   Number of Unique Items  Average Price  Number of Purchases  Total Revenue\n",
       "0                     183       3.050987                  780        2379.77"
      ]
     },
     "execution_count": 409,
     "metadata": {},
     "output_type": "execute_result"
    }
   ],
   "source": [
    "number_unique_items=purchase_data_df['Item ID'].nunique()\n",
    "number_unique_items\n",
    "average_price=purchase_data_df['Price'].mean()\n",
    "average_price\n",
    "number_of_purchases=purchase_data_df[\"Item Name\"].count()\n",
    "number_of_purchases\n",
    "total_revenue=purchase_data_df[\"Price\"].sum()\n",
    "total_revenue\n",
    "summary_df=pd.DataFrame({\"Number of Unique Items\":[number_unique_items],\"Average Price\":[average_price],\"Number of Purchases\":[number_of_purchases],\"Total Revenue\":[total_revenue]})\n",
    "summary_df"
   ]
  },
  {
   "cell_type": "markdown",
   "metadata": {},
   "source": [
    "## Gender Demographics"
   ]
  },
  {
   "cell_type": "markdown",
   "metadata": {},
   "source": [
    "* Percentage and Count of Male Players\n",
    "\n",
    "\n",
    "* Percentage and Count of Female Players\n",
    "\n",
    "\n",
    "* Percentage and Count of Other / Non-Disclosed\n",
    "\n",
    "\n"
   ]
  },
  {
   "cell_type": "code",
   "execution_count": 410,
   "metadata": {},
   "outputs": [
    {
     "data": {
      "text/html": [
       "<style  type=\"text/css\" >\n",
       "</style><table id=\"T_fd9704c4_5f6f_11ea_9c14_acde48001122\" ><thead>    <tr>        <th class=\"col_heading level0 col0\" >Gender</th>        <th class=\"col_heading level0 col1\" >Total Count</th>        <th class=\"col_heading level0 col2\" >Percentage of Players</th>    </tr></thead><tbody>\n",
       "                <tr>\n",
       "                                <td id=\"T_fd9704c4_5f6f_11ea_9c14_acde48001122row0_col0\" class=\"data row0 col0\" >Male</td>\n",
       "                        <td id=\"T_fd9704c4_5f6f_11ea_9c14_acde48001122row0_col1\" class=\"data row0 col1\" >484</td>\n",
       "                        <td id=\"T_fd9704c4_5f6f_11ea_9c14_acde48001122row0_col2\" class=\"data row0 col2\" >84.03%</td>\n",
       "            </tr>\n",
       "            <tr>\n",
       "                                <td id=\"T_fd9704c4_5f6f_11ea_9c14_acde48001122row1_col0\" class=\"data row1 col0\" >Femle</td>\n",
       "                        <td id=\"T_fd9704c4_5f6f_11ea_9c14_acde48001122row1_col1\" class=\"data row1 col1\" >81</td>\n",
       "                        <td id=\"T_fd9704c4_5f6f_11ea_9c14_acde48001122row1_col2\" class=\"data row1 col2\" >14.06%</td>\n",
       "            </tr>\n",
       "            <tr>\n",
       "                                <td id=\"T_fd9704c4_5f6f_11ea_9c14_acde48001122row2_col0\" class=\"data row2 col0\" >Other/Non-Disclosed</td>\n",
       "                        <td id=\"T_fd9704c4_5f6f_11ea_9c14_acde48001122row2_col1\" class=\"data row2 col1\" >11</td>\n",
       "                        <td id=\"T_fd9704c4_5f6f_11ea_9c14_acde48001122row2_col2\" class=\"data row2 col2\" >1.91%</td>\n",
       "            </tr>\n",
       "    </tbody></table>"
      ],
      "text/plain": [
       "<pandas.io.formats.style.Styler at 0x11b7b9a10>"
      ]
     },
     "execution_count": 410,
     "metadata": {},
     "output_type": "execute_result"
    }
   ],
   "source": [
    "# Use loc function to isolate genders\n",
    "male_df= purchase_data_df.loc[purchase_data_df[\"Gender\"] == \"Male\"]\n",
    "unique_male_count=male_df[\"SN\"].nunique()\n",
    "\n",
    "female_df= purchase_data_df.loc[purchase_data_df[\"Gender\"] == \"Female\"]\n",
    "unique_female_count=female_df[\"SN\"].nunique()\n",
    "\n",
    "other_gender_df= purchase_data_df.loc[purchase_data_df[\"Gender\"] == \"Other / Non-Disclosed\"]\n",
    "other_gender_count= other_gender_df[\"SN\"].nunique()\n",
    "\n",
    "gender_df = pd.DataFrame({\"Gender\": [\"Male\", \n",
    "                                     \"Femle\", \n",
    "                                     \"Other/Non-Disclosed\"],\n",
    "                          \"Total Count\": [unique_male_count,\n",
    "                                          unique_female_count, \n",
    "                                          other_gender_count]})\n",
    "gender_df\n",
    "\n",
    "\n",
    "percentage = ((gender_df[\"Total Count\"]/total_number_of_players)*100)\n",
    "gender_df[\"Percentage of Players\"] = percentage\n",
    "\n",
    "gender_df[\"Percentage of Players\"] = gender_df[\"Percentage of Players\"].astype(float).map(\"{:.2f}%\".format)\n",
    "\n",
    "gender_df.style.hide_index()"
   ]
  },
  {
   "cell_type": "markdown",
   "metadata": {},
   "source": [
    "\n",
    "## Purchasing Analysis (Gender)"
   ]
  },
  {
   "cell_type": "markdown",
   "metadata": {},
   "source": [
    "* Run basic calculations to obtain purchase count, avg. purchase price, avg. purchase total per person etc. by gender\n",
    "\n",
    "\n",
    "\n",
    "\n",
    "* Create a summary data frame to hold the results\n",
    "\n",
    "\n",
    "* Optional: give the displayed data cleaner formatting\n",
    "\n",
    "\n",
    "* Display the summary data frame"
   ]
  },
  {
   "cell_type": "code",
   "execution_count": 411,
   "metadata": {
    "scrolled": true
   },
   "outputs": [
    {
     "data": {
      "text/plain": [
       "Gender\n",
       "Female                   113\n",
       "Male                     652\n",
       "Other / Non-Disclosed     15\n",
       "Name: Purchase ID, dtype: int64"
      ]
     },
     "execution_count": 411,
     "metadata": {},
     "output_type": "execute_result"
    }
   ],
   "source": [
    "purchasecount"
   ]
  },
  {
   "cell_type": "code",
   "execution_count": 412,
   "metadata": {},
   "outputs": [
    {
     "data": {
      "text/plain": [
       "Item ID  Item Name                        Price\n",
       "0        Splinter                         1.28      $5.12\n",
       "1        Crucifer                         3.26      $9.78\n",
       "2        Verdict                          2.48     $14.88\n",
       "3        Phantomlight                     2.49     $14.94\n",
       "4        Bloodlord's Fetish               1.70      $8.50\n",
       "                                                    ...  \n",
       "179      Wolf, Promise of the Moonwalker  4.48     $26.88\n",
       "180      Stormcaller                      3.36      $3.36\n",
       "181      Reaper's Toll                    1.66      $8.30\n",
       "182      Toothpick                        4.03     $12.09\n",
       "183      Dragon's Greatsword              1.09      $3.27\n",
       "Name: Price, Length: 183, dtype: object"
      ]
     },
     "execution_count": 412,
     "metadata": {},
     "output_type": "execute_result"
    }
   ],
   "source": [
    "total_purchase_value"
   ]
  },
  {
   "cell_type": "code",
   "execution_count": 413,
   "metadata": {},
   "outputs": [
    {
     "data": {
      "text/plain": [
       "Age Group\n",
       "<10      $3.35\n",
       "10-14    $2.96\n",
       "15-19    $3.04\n",
       "20-24    $3.05\n",
       "25-29    $2.90\n",
       "30-34    $2.93\n",
       "35-39    $3.60\n",
       "40+      $2.94\n",
       "dtype: object"
      ]
     },
     "execution_count": 413,
     "metadata": {},
     "output_type": "execute_result"
    }
   ],
   "source": [
    "avgpurchaseprice"
   ]
  },
  {
   "cell_type": "code",
   "execution_count": 414,
   "metadata": {},
   "outputs": [
    {
     "data": {
      "text/html": [
       "<div>\n",
       "<style scoped>\n",
       "    .dataframe tbody tr th:only-of-type {\n",
       "        vertical-align: middle;\n",
       "    }\n",
       "\n",
       "    .dataframe tbody tr th {\n",
       "        vertical-align: top;\n",
       "    }\n",
       "\n",
       "    .dataframe thead th {\n",
       "        text-align: right;\n",
       "    }\n",
       "</style>\n",
       "<table border=\"1\" class=\"dataframe\">\n",
       "  <thead>\n",
       "    <tr style=\"text-align: right;\">\n",
       "      <th></th>\n",
       "      <th>Purchase Count</th>\n",
       "      <th>Total Purchase Value</th>\n",
       "      <th>Average Purchase Price</th>\n",
       "      <th>Average Purchase Total per Person</th>\n",
       "    </tr>\n",
       "    <tr>\n",
       "      <th>Gender</th>\n",
       "      <th></th>\n",
       "      <th></th>\n",
       "      <th></th>\n",
       "      <th></th>\n",
       "    </tr>\n",
       "  </thead>\n",
       "  <tbody>\n",
       "    <tr>\n",
       "      <td>Female</td>\n",
       "      <td>113</td>\n",
       "      <td>$361.94</td>\n",
       "      <td>$3.20</td>\n",
       "      <td>$4.47</td>\n",
       "    </tr>\n",
       "    <tr>\n",
       "      <td>Male</td>\n",
       "      <td>652</td>\n",
       "      <td>$1967.64</td>\n",
       "      <td>$3.02</td>\n",
       "      <td>$4.07</td>\n",
       "    </tr>\n",
       "    <tr>\n",
       "      <td>Other / Non-Disclosed</td>\n",
       "      <td>15</td>\n",
       "      <td>$50.19</td>\n",
       "      <td>$3.35</td>\n",
       "      <td>$4.56</td>\n",
       "    </tr>\n",
       "  </tbody>\n",
       "</table>\n",
       "</div>"
      ],
      "text/plain": [
       "                       Purchase Count Total Purchase Value  \\\n",
       "Gender                                                       \n",
       "Female                            113              $361.94   \n",
       "Male                              652             $1967.64   \n",
       "Other / Non-Disclosed              15               $50.19   \n",
       "\n",
       "                      Average Purchase Price Average Purchase Total per Person  \n",
       "Gender                                                                          \n",
       "Female                                 $3.20                             $4.47  \n",
       "Male                                   $3.02                             $4.07  \n",
       "Other / Non-Disclosed                  $3.35                             $4.56  "
      ]
     },
     "execution_count": 414,
     "metadata": {},
     "output_type": "execute_result"
    }
   ],
   "source": [
    "# Use groupby function to obtain purchase count by gender\n",
    "purchase_count=purchase_data_df.groupby([\"Gender\"])\n",
    "purchasecount=purchase_count[\"Purchase ID\"].count()\n",
    "# Use groupby function to obtain total purchase value by gender\n",
    "total_purchase_value=purchase_count[\"Price\"].sum()\n",
    "total_purchase_value\n",
    "# Use groupby function to obtain avg. purchase price by gender\n",
    "avg_purchase_price=total_purchase_value/purchasecount\n",
    "avgpurchaseprice=avg_purchase_price.round(2).map(\"${:.2f}\".format)\n",
    "avgpurchaseprice\n",
    "# Use groupby function to obtain avg. purchase total per person by gender\n",
    "avg_purchase_total_per_person=total_purchase_value/[unique_female_count,\n",
    "                                          unique_male_count, \n",
    "                                          other_gender_count]\n",
    "avg_purchase_total_per_person\n",
    "# New Dataframe with Gender\n",
    "Purchasing_Analysis_df=pd.DataFrame({'Purchase Count':purchasecount,\n",
    "                             'Total Purchase Value':total_purchase_value,\n",
    "                             'Average Purchase Price':avgpurchaseprice,\n",
    "                             'Average Purchase Total per Person':avg_purchase_total_per_person\n",
    "                                    })\n",
    "\n",
    "Purchasing_Analysis_df['Total Purchase Value'] = Purchasing_Analysis_df['Total Purchase Value'].map(\"${:.2f}\".format)\n",
    "Purchasing_Analysis_df['Average Purchase Total per Person']=Purchasing_Analysis_df['Average Purchase Total per Person'].map(\"${:.2f}\".format)\n",
    "Purchasing_Analysis_df"
   ]
  },
  {
   "cell_type": "markdown",
   "metadata": {},
   "source": [
    "## Age Demographics"
   ]
  },
  {
   "cell_type": "markdown",
   "metadata": {},
   "source": [
    "* Establish bins for ages\n",
    "\n",
    "\n",
    "* Categorize the existing players using the age bins. Hint: use pd.cut()\n",
    "\n",
    "\n",
    "* Calculate the numbers and percentages by age group\n",
    "\n",
    "\n",
    "* Create a summary data frame to hold the results\n",
    "\n",
    "\n",
    "* Optional: round the percentage column to two decimal points\n",
    "\n",
    "\n",
    "* Display Age Demographics Table\n"
   ]
  },
  {
   "cell_type": "code",
   "execution_count": 415,
   "metadata": {},
   "outputs": [
    {
     "data": {
      "text/html": [
       "<div>\n",
       "<style scoped>\n",
       "    .dataframe tbody tr th:only-of-type {\n",
       "        vertical-align: middle;\n",
       "    }\n",
       "\n",
       "    .dataframe tbody tr th {\n",
       "        vertical-align: top;\n",
       "    }\n",
       "\n",
       "    .dataframe thead th {\n",
       "        text-align: right;\n",
       "    }\n",
       "</style>\n",
       "<table border=\"1\" class=\"dataframe\">\n",
       "  <thead>\n",
       "    <tr style=\"text-align: right;\">\n",
       "      <th></th>\n",
       "      <th>Total Count</th>\n",
       "      <th>Percentage of Players</th>\n",
       "    </tr>\n",
       "    <tr>\n",
       "      <th>Age Group</th>\n",
       "      <th></th>\n",
       "      <th></th>\n",
       "    </tr>\n",
       "  </thead>\n",
       "  <tbody>\n",
       "    <tr>\n",
       "      <td>&lt;10</td>\n",
       "      <td>17</td>\n",
       "      <td>2.95%</td>\n",
       "    </tr>\n",
       "    <tr>\n",
       "      <td>10-14</td>\n",
       "      <td>22</td>\n",
       "      <td>3.82%</td>\n",
       "    </tr>\n",
       "    <tr>\n",
       "      <td>15-19</td>\n",
       "      <td>107</td>\n",
       "      <td>18.58%</td>\n",
       "    </tr>\n",
       "    <tr>\n",
       "      <td>20-24</td>\n",
       "      <td>258</td>\n",
       "      <td>44.79%</td>\n",
       "    </tr>\n",
       "    <tr>\n",
       "      <td>25-29</td>\n",
       "      <td>77</td>\n",
       "      <td>13.37%</td>\n",
       "    </tr>\n",
       "    <tr>\n",
       "      <td>30-34</td>\n",
       "      <td>52</td>\n",
       "      <td>9.03%</td>\n",
       "    </tr>\n",
       "    <tr>\n",
       "      <td>35-39</td>\n",
       "      <td>31</td>\n",
       "      <td>5.38%</td>\n",
       "    </tr>\n",
       "    <tr>\n",
       "      <td>40+</td>\n",
       "      <td>12</td>\n",
       "      <td>2.08%</td>\n",
       "    </tr>\n",
       "  </tbody>\n",
       "</table>\n",
       "</div>"
      ],
      "text/plain": [
       "           Total Count Percentage of Players\n",
       "Age Group                                   \n",
       "<10                 17                 2.95%\n",
       "10-14               22                 3.82%\n",
       "15-19              107                18.58%\n",
       "20-24              258                44.79%\n",
       "25-29               77                13.37%\n",
       "30-34               52                 9.03%\n",
       "35-39               31                 5.38%\n",
       "40+                 12                 2.08%"
      ]
     },
     "execution_count": 415,
     "metadata": {},
     "output_type": "execute_result"
    }
   ],
   "source": [
    "# Create the bins in which Data will be held\n",
    "# Labels are <10, 10-14, 15-19, 20-24,25-29，30-34，35-39，40+.   \n",
    "bins = [0,9.9,14.9,19.9,24.9,29.9,34.9,39.9,100]\n",
    "labels=[\"<10\", \"10-14\", \"15-19\", \"20-24\",\"25-29\",\"30-34\",\"35-39\",\"40+\"]\n",
    "# To add a new column claled Age Group\n",
    "purchase_data_df[\"Age Group\"] = pd.cut(purchase_data_df[\"Age\"], bins, labels=labels)\n",
    "age_df=purchase_data_df.drop_duplicates('SN')\n",
    "age_group=age_df.groupby([\"Age Group\"])\n",
    "age_count=age_group['Age Group'].count()\n",
    "percentage_of_players=age_count/total_number_of_players\n",
    "percentage_of_players=percentage_of_players*100\n",
    "#Create new dataframe\n",
    "Age_Demographics_df=pd.DataFrame({'Total Count':age_count,\n",
    "                             'Percentage of Players':percentage_of_players\n",
    "                                 })\n",
    "Age_Demographics_df[\"Percentage of Players\"] = Age_Demographics_df[\"Percentage of Players\"].astype(float).map(\"{:.2f}%\".format)\n",
    "Age_Demographics_df                           "
   ]
  },
  {
   "cell_type": "markdown",
   "metadata": {},
   "source": [
    "## Purchasing Analysis (Age)"
   ]
  },
  {
   "cell_type": "markdown",
   "metadata": {},
   "source": [
    "* Bin the purchase_data data frame by age\n",
    "\n",
    "\n",
    "* Run basic calculations to obtain purchase count, avg. purchase price, avg. purchase total per person etc. in the table below\n",
    "\n",
    "\n",
    "* Create a summary data frame to hold the results\n",
    "\n",
    "\n",
    "* Optional: give the displayed data cleaner formatting\n",
    "\n",
    "\n",
    "* Display the summary data frame"
   ]
  },
  {
   "cell_type": "code",
   "execution_count": 416,
   "metadata": {
    "scrolled": true
   },
   "outputs": [
    {
     "data": {
      "text/html": [
       "<div>\n",
       "<style scoped>\n",
       "    .dataframe tbody tr th:only-of-type {\n",
       "        vertical-align: middle;\n",
       "    }\n",
       "\n",
       "    .dataframe tbody tr th {\n",
       "        vertical-align: top;\n",
       "    }\n",
       "\n",
       "    .dataframe thead th {\n",
       "        text-align: right;\n",
       "    }\n",
       "</style>\n",
       "<table border=\"1\" class=\"dataframe\">\n",
       "  <thead>\n",
       "    <tr style=\"text-align: right;\">\n",
       "      <th></th>\n",
       "      <th>Purchase Count</th>\n",
       "      <th>Total Purchase Value</th>\n",
       "      <th>Average Purchase Price</th>\n",
       "      <th>Average Purchase Total per Person</th>\n",
       "    </tr>\n",
       "    <tr>\n",
       "      <th>Age Group</th>\n",
       "      <th></th>\n",
       "      <th></th>\n",
       "      <th></th>\n",
       "      <th></th>\n",
       "    </tr>\n",
       "  </thead>\n",
       "  <tbody>\n",
       "    <tr>\n",
       "      <td>&lt;10</td>\n",
       "      <td>23</td>\n",
       "      <td>$77.13</td>\n",
       "      <td>$3.35</td>\n",
       "      <td>$4.54</td>\n",
       "    </tr>\n",
       "    <tr>\n",
       "      <td>10-14</td>\n",
       "      <td>28</td>\n",
       "      <td>$82.78</td>\n",
       "      <td>$2.96</td>\n",
       "      <td>$3.76</td>\n",
       "    </tr>\n",
       "    <tr>\n",
       "      <td>15-19</td>\n",
       "      <td>136</td>\n",
       "      <td>$412.89</td>\n",
       "      <td>$3.04</td>\n",
       "      <td>$3.86</td>\n",
       "    </tr>\n",
       "    <tr>\n",
       "      <td>20-24</td>\n",
       "      <td>365</td>\n",
       "      <td>$1114.06</td>\n",
       "      <td>$3.05</td>\n",
       "      <td>$4.32</td>\n",
       "    </tr>\n",
       "    <tr>\n",
       "      <td>25-29</td>\n",
       "      <td>101</td>\n",
       "      <td>$293.00</td>\n",
       "      <td>$2.90</td>\n",
       "      <td>$3.81</td>\n",
       "    </tr>\n",
       "    <tr>\n",
       "      <td>30-34</td>\n",
       "      <td>73</td>\n",
       "      <td>$214.00</td>\n",
       "      <td>$2.93</td>\n",
       "      <td>$4.12</td>\n",
       "    </tr>\n",
       "    <tr>\n",
       "      <td>35-39</td>\n",
       "      <td>41</td>\n",
       "      <td>$147.67</td>\n",
       "      <td>$3.60</td>\n",
       "      <td>$4.76</td>\n",
       "    </tr>\n",
       "    <tr>\n",
       "      <td>40+</td>\n",
       "      <td>13</td>\n",
       "      <td>$38.24</td>\n",
       "      <td>$2.94</td>\n",
       "      <td>$3.19</td>\n",
       "    </tr>\n",
       "  </tbody>\n",
       "</table>\n",
       "</div>"
      ],
      "text/plain": [
       "           Purchase Count Total Purchase Value Average Purchase Price  \\\n",
       "Age Group                                                               \n",
       "<10                    23               $77.13                  $3.35   \n",
       "10-14                  28               $82.78                  $2.96   \n",
       "15-19                 136              $412.89                  $3.04   \n",
       "20-24                 365             $1114.06                  $3.05   \n",
       "25-29                 101              $293.00                  $2.90   \n",
       "30-34                  73              $214.00                  $2.93   \n",
       "35-39                  41              $147.67                  $3.60   \n",
       "40+                    13               $38.24                  $2.94   \n",
       "\n",
       "          Average Purchase Total per Person  \n",
       "Age Group                                    \n",
       "<10                                   $4.54  \n",
       "10-14                                 $3.76  \n",
       "15-19                                 $3.86  \n",
       "20-24                                 $4.32  \n",
       "25-29                                 $3.81  \n",
       "30-34                                 $4.12  \n",
       "35-39                                 $4.76  \n",
       "40+                                   $3.19  "
      ]
     },
     "execution_count": 416,
     "metadata": {},
     "output_type": "execute_result"
    }
   ],
   "source": [
    "# Use groupby function to obtain purchase count by age\n",
    "age_group=purchase_data_df.groupby([\"Age Group\"])\n",
    "purchase_count=age_group['Age Group'].count()\n",
    "# Use groupby function to obtain total purchase value by age\n",
    "total_purchase_value=age_group[\"Price\"].sum()\n",
    "# Use groupby function to obtain avg. purchase price by age\n",
    "avg_purchase_price=total_purchase_value/purchase_count\n",
    "avgpurchaseprice=avg_purchase_price.round(2).map(\"${:.2f}\".format)\n",
    "avgpurchaseprice\n",
    "# Use groupby function to obtain avg. purchase total per person by age\n",
    "# Insert previous age_count data\n",
    "age_df1=purchase_data_df.drop_duplicates('SN')\n",
    "age_group1=age_df1.groupby([\"Age Group\"])\n",
    "age_count1=age_group1['Age Group'].count()\n",
    "avg_purchase_total_per_person=total_purchase_value/age_count1\n",
    "avg_purchase_total_per_person=avg_purchase_total_per_person.round(2).map(\"${:.2f}\".format)\n",
    "avg_purchase_total_per_person\n",
    "total_purchase_value=total_purchase_value.round(2).map(\"${:.2f}\".format)\n",
    "# New DataFrame\n",
    "Purchasing_Analysis_age_df=pd.DataFrame({'Purchase Count':purchase_count,\n",
    "                             'Total Purchase Value':total_purchase_value,\n",
    "                             'Average Purchase Price':avgpurchaseprice,\n",
    "                             'Average Purchase Total per Person':avg_purchase_total_per_person\n",
    "                                    })\n",
    "Purchasing_Analysis_age_df"
   ]
  },
  {
   "cell_type": "markdown",
   "metadata": {},
   "source": [
    "## Top Spenders"
   ]
  },
  {
   "cell_type": "markdown",
   "metadata": {},
   "source": [
    "* Run basic calculations to obtain the results in the table below\n",
    "\n",
    "\n",
    "* Create a summary data frame to hold the results\n",
    "\n",
    "\n",
    "* Sort the total purchase value column in descending order\n",
    "\n",
    "\n",
    "* Optional: give the displayed data cleaner formatting\n",
    "\n",
    "\n",
    "* Display a preview of the summary data frame\n",
    "\n"
   ]
  },
  {
   "cell_type": "code",
   "execution_count": 417,
   "metadata": {},
   "outputs": [
    {
     "data": {
      "text/html": [
       "<div>\n",
       "<style scoped>\n",
       "    .dataframe tbody tr th:only-of-type {\n",
       "        vertical-align: middle;\n",
       "    }\n",
       "\n",
       "    .dataframe tbody tr th {\n",
       "        vertical-align: top;\n",
       "    }\n",
       "\n",
       "    .dataframe thead th {\n",
       "        text-align: right;\n",
       "    }\n",
       "</style>\n",
       "<table border=\"1\" class=\"dataframe\">\n",
       "  <thead>\n",
       "    <tr style=\"text-align: right;\">\n",
       "      <th></th>\n",
       "      <th>Purchase Count</th>\n",
       "      <th>Average Purchase Price</th>\n",
       "      <th>Total Purchase Value</th>\n",
       "    </tr>\n",
       "    <tr>\n",
       "      <th>SN</th>\n",
       "      <th></th>\n",
       "      <th></th>\n",
       "      <th></th>\n",
       "    </tr>\n",
       "  </thead>\n",
       "  <tbody>\n",
       "    <tr>\n",
       "      <td>Lisosia93</td>\n",
       "      <td>5</td>\n",
       "      <td>$3.79</td>\n",
       "      <td>18.96</td>\n",
       "    </tr>\n",
       "    <tr>\n",
       "      <td>Idastidru52</td>\n",
       "      <td>4</td>\n",
       "      <td>$3.86</td>\n",
       "      <td>15.45</td>\n",
       "    </tr>\n",
       "    <tr>\n",
       "      <td>Chamjask73</td>\n",
       "      <td>3</td>\n",
       "      <td>$4.61</td>\n",
       "      <td>13.83</td>\n",
       "    </tr>\n",
       "    <tr>\n",
       "      <td>Iral74</td>\n",
       "      <td>4</td>\n",
       "      <td>$3.40</td>\n",
       "      <td>13.62</td>\n",
       "    </tr>\n",
       "    <tr>\n",
       "      <td>Iskadarya95</td>\n",
       "      <td>3</td>\n",
       "      <td>$4.37</td>\n",
       "      <td>13.10</td>\n",
       "    </tr>\n",
       "  </tbody>\n",
       "</table>\n",
       "</div>"
      ],
      "text/plain": [
       "             Purchase Count Average Purchase Price  Total Purchase Value\n",
       "SN                                                                      \n",
       "Lisosia93                 5                  $3.79                 18.96\n",
       "Idastidru52               4                  $3.86                 15.45\n",
       "Chamjask73                3                  $4.61                 13.83\n",
       "Iral74                    4                  $3.40                 13.62\n",
       "Iskadarya95               3                  $4.37                 13.10"
      ]
     },
     "execution_count": 417,
     "metadata": {},
     "output_type": "execute_result"
    }
   ],
   "source": [
    "# Group by SN\n",
    "SN_group=purchase_data_df.groupby([\"SN\"])\n",
    "SN_purchase_count=SN_group[\"SN\"].count()\n",
    "SN_purchase_count\n",
    "# Find the highest five total purchase\n",
    "total_purchase_value=SN_group[\"Price\"].sum()\n",
    "total_purchase_value\n",
    "# Find the according average purchase price\n",
    "average_purchase_price=total_purchase_value/SN_purchase_count\n",
    "average_purchase_price=average_purchase_price.round(2).map(\"${:.2f}\".format)\n",
    "# New Data Frame\n",
    "Top_Spenders=pd.DataFrame({'Purchase Count':SN_purchase_count,\n",
    "                            'Average Purchase Price':average_purchase_price,\n",
    "                           'Total Purchase Value':total_purchase_value})\n",
    "Top_Spenders= Top_Spenders.sort_values(\"Total Purchase Value\", ascending=False)\n",
    "Top_Spenders.head(5)"
   ]
  },
  {
   "cell_type": "markdown",
   "metadata": {},
   "source": [
    "## Most Popular Items"
   ]
  },
  {
   "cell_type": "markdown",
   "metadata": {},
   "source": [
    "* Retrieve the Item ID, Item Name, and Item Price columns\n",
    "\n",
    "\n",
    "* Group by Item ID and Item Name. Perform calculations to obtain purchase count, item price, and total purchase value\n",
    "\n",
    "\n",
    "* Create a summary data frame to hold the results\n",
    "\n",
    "\n",
    "* Sort the purchase count column in descending order\n",
    "\n",
    "\n",
    "* Optional: give the displayed data cleaner formatting\n",
    "\n",
    "\n",
    "* Display a preview of the summary data frame\n",
    "\n"
   ]
  },
  {
   "cell_type": "code",
   "execution_count": 418,
   "metadata": {
    "scrolled": true
   },
   "outputs": [
    {
     "data": {
      "text/html": [
       "<div>\n",
       "<style scoped>\n",
       "    .dataframe tbody tr th:only-of-type {\n",
       "        vertical-align: middle;\n",
       "    }\n",
       "\n",
       "    .dataframe tbody tr th {\n",
       "        vertical-align: top;\n",
       "    }\n",
       "\n",
       "    .dataframe thead th {\n",
       "        text-align: right;\n",
       "    }\n",
       "</style>\n",
       "<table border=\"1\" class=\"dataframe\">\n",
       "  <thead>\n",
       "    <tr style=\"text-align: right;\">\n",
       "      <th></th>\n",
       "      <th></th>\n",
       "      <th></th>\n",
       "      <th>Purchase Count</th>\n",
       "      <th>Total Purchase Value</th>\n",
       "    </tr>\n",
       "    <tr>\n",
       "      <th>Item ID</th>\n",
       "      <th>Item Name</th>\n",
       "      <th>Price</th>\n",
       "      <th></th>\n",
       "      <th></th>\n",
       "    </tr>\n",
       "  </thead>\n",
       "  <tbody>\n",
       "    <tr>\n",
       "      <td>178</td>\n",
       "      <td>Oathbreaker, Last Hope of the Breaking Storm</td>\n",
       "      <td>4.23</td>\n",
       "      <td>12</td>\n",
       "      <td>$50.76</td>\n",
       "    </tr>\n",
       "    <tr>\n",
       "      <td>145</td>\n",
       "      <td>Fiery Glass Crusader</td>\n",
       "      <td>4.58</td>\n",
       "      <td>9</td>\n",
       "      <td>$41.22</td>\n",
       "    </tr>\n",
       "    <tr>\n",
       "      <td>108</td>\n",
       "      <td>Extraction, Quickblade Of Trembling Hands</td>\n",
       "      <td>3.53</td>\n",
       "      <td>9</td>\n",
       "      <td>$31.77</td>\n",
       "    </tr>\n",
       "    <tr>\n",
       "      <td>82</td>\n",
       "      <td>Nirvana</td>\n",
       "      <td>4.90</td>\n",
       "      <td>9</td>\n",
       "      <td>$44.10</td>\n",
       "    </tr>\n",
       "    <tr>\n",
       "      <td>19</td>\n",
       "      <td>Pursuit, Cudgel of Necromancy</td>\n",
       "      <td>1.02</td>\n",
       "      <td>8</td>\n",
       "      <td>$8.16</td>\n",
       "    </tr>\n",
       "  </tbody>\n",
       "</table>\n",
       "</div>"
      ],
      "text/plain": [
       "                                                            Purchase Count  \\\n",
       "Item ID Item Name                                    Price                   \n",
       "178     Oathbreaker, Last Hope of the Breaking Storm 4.23               12   \n",
       "145     Fiery Glass Crusader                         4.58                9   \n",
       "108     Extraction, Quickblade Of Trembling Hands    3.53                9   \n",
       "82      Nirvana                                      4.90                9   \n",
       "19      Pursuit, Cudgel of Necromancy                1.02                8   \n",
       "\n",
       "                                                           Total Purchase Value  \n",
       "Item ID Item Name                                    Price                       \n",
       "178     Oathbreaker, Last Hope of the Breaking Storm 4.23                $50.76  \n",
       "145     Fiery Glass Crusader                         4.58                $41.22  \n",
       "108     Extraction, Quickblade Of Trembling Hands    3.53                $31.77  \n",
       "82      Nirvana                                      4.90                $44.10  \n",
       "19      Pursuit, Cudgel of Necromancy                1.02                 $8.16  "
      ]
     },
     "execution_count": 418,
     "metadata": {},
     "output_type": "execute_result"
    }
   ],
   "source": [
    "# Retrieve the Item ID, Item Name, and Item Price columns\n",
    "new_df=purchase_data_df[[\"Item ID\",\"Item Name\",\"Price\"]]\n",
    "# Find the most popular Item\n",
    "purchase_count=new_df.groupby([\"Item ID\",\"Item Name\",\"Price\"])\n",
    "purchase_count_group=purchase_count[\"Item Name\"].count()\n",
    "purchase_count_group\n",
    "# Find Total Purchase Value\n",
    "total_purchase_value=purchase_count[\"Price\"].sum()\n",
    "total_purchase_value=total_purchase_value.round(2).map(\"${:.2f}\".format)\n",
    "# New Data Frame\n",
    "Most_Popular_Items=pd.DataFrame({'Purchase Count':purchase_count_group,\n",
    "                           'Total Purchase Value':total_purchase_value})\n",
    "Most_Popular_Items=Most_Popular_Items.sort_values(\"Purchase Count\", ascending=False)\n",
    "Most_Popular_Items.head(5)"
   ]
  },
  {
   "cell_type": "markdown",
   "metadata": {},
   "source": [
    "## Most Profitable Items"
   ]
  },
  {
   "cell_type": "markdown",
   "metadata": {},
   "source": [
    "* Sort the above table by total purchase value in descending order\n",
    "\n",
    "\n",
    "* Optional: give the displayed data cleaner formatting\n",
    "\n",
    "\n",
    "* Display a preview of the data frame\n",
    "\n"
   ]
  },
  {
   "cell_type": "code",
   "execution_count": 419,
   "metadata": {
    "scrolled": true
   },
   "outputs": [
    {
     "data": {
      "text/html": [
       "<div>\n",
       "<style scoped>\n",
       "    .dataframe tbody tr th:only-of-type {\n",
       "        vertical-align: middle;\n",
       "    }\n",
       "\n",
       "    .dataframe tbody tr th {\n",
       "        vertical-align: top;\n",
       "    }\n",
       "\n",
       "    .dataframe thead th {\n",
       "        text-align: right;\n",
       "    }\n",
       "</style>\n",
       "<table border=\"1\" class=\"dataframe\">\n",
       "  <thead>\n",
       "    <tr style=\"text-align: right;\">\n",
       "      <th></th>\n",
       "      <th></th>\n",
       "      <th></th>\n",
       "      <th>Purchase Count</th>\n",
       "      <th>Total Purchase Value</th>\n",
       "    </tr>\n",
       "    <tr>\n",
       "      <th>Item ID</th>\n",
       "      <th>Item Name</th>\n",
       "      <th>Price</th>\n",
       "      <th></th>\n",
       "      <th></th>\n",
       "    </tr>\n",
       "  </thead>\n",
       "  <tbody>\n",
       "    <tr>\n",
       "      <td>63</td>\n",
       "      <td>Stormfury Mace</td>\n",
       "      <td>4.99</td>\n",
       "      <td>2</td>\n",
       "      <td>$9.98</td>\n",
       "    </tr>\n",
       "    <tr>\n",
       "      <td>29</td>\n",
       "      <td>Chaos, Ender of the End</td>\n",
       "      <td>1.98</td>\n",
       "      <td>5</td>\n",
       "      <td>$9.90</td>\n",
       "    </tr>\n",
       "    <tr>\n",
       "      <td>173</td>\n",
       "      <td>Stormfury Longsword</td>\n",
       "      <td>4.93</td>\n",
       "      <td>2</td>\n",
       "      <td>$9.86</td>\n",
       "    </tr>\n",
       "    <tr>\n",
       "      <td>1</td>\n",
       "      <td>Crucifer</td>\n",
       "      <td>3.26</td>\n",
       "      <td>3</td>\n",
       "      <td>$9.78</td>\n",
       "    </tr>\n",
       "    <tr>\n",
       "      <td>38</td>\n",
       "      <td>The Void, Vengeance of Dark Magic</td>\n",
       "      <td>2.37</td>\n",
       "      <td>4</td>\n",
       "      <td>$9.48</td>\n",
       "    </tr>\n",
       "  </tbody>\n",
       "</table>\n",
       "</div>"
      ],
      "text/plain": [
       "                                                 Purchase Count  \\\n",
       "Item ID Item Name                         Price                   \n",
       "63      Stormfury Mace                    4.99                2   \n",
       "29      Chaos, Ender of the End           1.98                5   \n",
       "173     Stormfury Longsword               4.93                2   \n",
       "1       Crucifer                          3.26                3   \n",
       "38      The Void, Vengeance of Dark Magic 2.37                4   \n",
       "\n",
       "                                                Total Purchase Value  \n",
       "Item ID Item Name                         Price                       \n",
       "63      Stormfury Mace                    4.99                 $9.98  \n",
       "29      Chaos, Ender of the End           1.98                 $9.90  \n",
       "173     Stormfury Longsword               4.93                 $9.86  \n",
       "1       Crucifer                          3.26                 $9.78  \n",
       "38      The Void, Vengeance of Dark Magic 2.37                 $9.48  "
      ]
     },
     "execution_count": 419,
     "metadata": {},
     "output_type": "execute_result"
    }
   ],
   "source": [
    "Most_Popular_Items_new=Most_Popular_Items.sort_values(\"Total Purchase Value\",ascending=False)\n",
    "Most_Popular_Items_new.head()"
   ]
  },
  {
   "cell_type": "code",
   "execution_count": null,
   "metadata": {},
   "outputs": [],
   "source": []
  }
 ],
 "metadata": {
  "anaconda-cloud": {},
  "kernel_info": {
   "name": "python3"
  },
  "kernelspec": {
   "display_name": "Python 3",
   "language": "python",
   "name": "python3"
  },
  "language_info": {
   "codemirror_mode": {
    "name": "ipython",
    "version": 3
   },
   "file_extension": ".py",
   "mimetype": "text/x-python",
   "name": "python",
   "nbconvert_exporter": "python",
   "pygments_lexer": "ipython3",
   "version": "3.7.4"
  },
  "latex_envs": {
   "LaTeX_envs_menu_present": true,
   "autoclose": false,
   "autocomplete": true,
   "bibliofile": "biblio.bib",
   "cite_by": "apalike",
   "current_citInitial": 1,
   "eqLabelWithNumbers": true,
   "eqNumInitial": 1,
   "hotkeys": {
    "equation": "Ctrl-E",
    "itemize": "Ctrl-I"
   },
   "labels_anchors": false,
   "latex_user_defs": false,
   "report_style_numbering": false,
   "user_envs_cfg": false
  },
  "nteract": {
   "version": "0.2.0"
  }
 },
 "nbformat": 4,
 "nbformat_minor": 2
}
